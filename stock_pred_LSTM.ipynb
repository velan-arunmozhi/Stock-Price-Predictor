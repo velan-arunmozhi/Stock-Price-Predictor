{
 "cells": [
  {
   "cell_type": "markdown",
   "id": "8c8e0a8c-01f2-4185-b074-759cf6f48e34",
   "metadata": {},
   "source": [
    "# Stock Price Predictor"
   ]
  },
  {
   "cell_type": "markdown",
   "id": "c4508ae4-48b8-4721-9d4a-c08571a1d183",
   "metadata": {},
   "source": [
    "I created a LSTM (Long Short Term Memory) model that predicts the next day closing price of stocks. For the data, I used the Yahoo! Finance's API to get Apple's stock market data from the last 20 years."
   ]
  },
  {
   "cell_type": "code",
   "execution_count": 1,
   "id": "55384aa3-f0f9-49f2-ab55-c23089f586d3",
   "metadata": {},
   "outputs": [],
   "source": [
    "import yfinance as yf\n",
    "import pandas as pd\n",
    "import tensorflow as tf\n",
    "from sklearn.preprocessing import MinMaxScaler\n",
    "from keras.models import Sequential\n",
    "from keras.layers import Dense, Input, LSTM, Dropout\n",
    "import matplotlib.pyplot as plt\n",
    "import matplotlib.dates as mdates\n",
    "import numpy as np\n",
    "from sklearn.metrics import mean_squared_error, mean_absolute_error\n",
    "from math import sqrt"
   ]
  },
  {
   "cell_type": "code",
   "execution_count": 2,
   "id": "a9db9c78-d34d-4067-bcac-36355fd6d940",
   "metadata": {},
   "outputs": [
    {
     "data": {
      "text/html": [
       "<div>\n",
       "<style scoped>\n",
       "    .dataframe tbody tr th:only-of-type {\n",
       "        vertical-align: middle;\n",
       "    }\n",
       "\n",
       "    .dataframe tbody tr th {\n",
       "        vertical-align: top;\n",
       "    }\n",
       "\n",
       "    .dataframe thead th {\n",
       "        text-align: right;\n",
       "    }\n",
       "</style>\n",
       "<table border=\"1\" class=\"dataframe\">\n",
       "  <thead>\n",
       "    <tr style=\"text-align: right;\">\n",
       "      <th></th>\n",
       "      <th>Close</th>\n",
       "    </tr>\n",
       "    <tr>\n",
       "      <th>Date</th>\n",
       "      <th></th>\n",
       "    </tr>\n",
       "  </thead>\n",
       "  <tbody>\n",
       "    <tr>\n",
       "      <th>2004-01-02 00:00:00-05:00</th>\n",
       "      <td>0.320901</td>\n",
       "    </tr>\n",
       "    <tr>\n",
       "      <th>2004-01-05 00:00:00-05:00</th>\n",
       "      <td>0.334322</td>\n",
       "    </tr>\n",
       "    <tr>\n",
       "      <th>2004-01-06 00:00:00-05:00</th>\n",
       "      <td>0.333115</td>\n",
       "    </tr>\n",
       "    <tr>\n",
       "      <th>2004-01-07 00:00:00-05:00</th>\n",
       "      <td>0.340655</td>\n",
       "    </tr>\n",
       "    <tr>\n",
       "      <th>2004-01-08 00:00:00-05:00</th>\n",
       "      <td>0.352267</td>\n",
       "    </tr>\n",
       "    <tr>\n",
       "      <th>...</th>\n",
       "      <td>...</td>\n",
       "    </tr>\n",
       "    <tr>\n",
       "      <th>2024-10-23 00:00:00-04:00</th>\n",
       "      <td>230.759995</td>\n",
       "    </tr>\n",
       "    <tr>\n",
       "      <th>2024-10-24 00:00:00-04:00</th>\n",
       "      <td>230.570007</td>\n",
       "    </tr>\n",
       "    <tr>\n",
       "      <th>2024-10-25 00:00:00-04:00</th>\n",
       "      <td>231.410004</td>\n",
       "    </tr>\n",
       "    <tr>\n",
       "      <th>2024-10-28 00:00:00-04:00</th>\n",
       "      <td>233.399994</td>\n",
       "    </tr>\n",
       "    <tr>\n",
       "      <th>2024-10-29 00:00:00-04:00</th>\n",
       "      <td>233.669998</td>\n",
       "    </tr>\n",
       "  </tbody>\n",
       "</table>\n",
       "<p>5242 rows × 1 columns</p>\n",
       "</div>"
      ],
      "text/plain": [
       "                                Close\n",
       "Date                                 \n",
       "2004-01-02 00:00:00-05:00    0.320901\n",
       "2004-01-05 00:00:00-05:00    0.334322\n",
       "2004-01-06 00:00:00-05:00    0.333115\n",
       "2004-01-07 00:00:00-05:00    0.340655\n",
       "2004-01-08 00:00:00-05:00    0.352267\n",
       "...                               ...\n",
       "2024-10-23 00:00:00-04:00  230.759995\n",
       "2024-10-24 00:00:00-04:00  230.570007\n",
       "2024-10-25 00:00:00-04:00  231.410004\n",
       "2024-10-28 00:00:00-04:00  233.399994\n",
       "2024-10-29 00:00:00-04:00  233.669998\n",
       "\n",
       "[5242 rows x 1 columns]"
      ]
     },
     "execution_count": 2,
     "metadata": {},
     "output_type": "execute_result"
    }
   ],
   "source": [
    "data = yf.Ticker(\"AAPL\")\n",
    "data = data.history(period=\"max\")\n",
    "data = data.loc[\"2004-01-01\":].copy()\n",
    "data = data.loc[:, data.columns.intersection(['Close'])]\n",
    "data"
   ]
  },
  {
   "cell_type": "code",
   "execution_count": 3,
   "id": "9661090e-04a1-42e0-9d70-70e21a8219a1",
   "metadata": {},
   "outputs": [
    {
     "data": {
      "text/plain": [
       "<Axes: xlabel='Date'>"
      ]
     },
     "execution_count": 3,
     "metadata": {},
     "output_type": "execute_result"
    },
    {
     "data": {
      "image/png": "[encoded data removed]",
      "text/plain": [
       "<Figure size 640x480 with 1 Axes>"
      ]
     },
     "metadata": {},
     "output_type": "display_data"
    }
   ],
   "source": [
    "data.plot.line(y=\"Close\", use_index=True)"
   ]
  },
  {
   "cell_type": "code",
   "execution_count": 4,
   "id": "4a26f682-897f-42a3-8fae-a589a5b99467",
   "metadata": {},
   "outputs": [
    {
     "data": {
      "text/plain": [
       "5242"
      ]
     },
     "execution_count": 4,
     "metadata": {},
     "output_type": "execute_result"
    }
   ],
   "source": [
    "len(data)"
   ]
  },
  {
   "cell_type": "markdown",
   "id": "cbf7d227-8313-4814-b9bd-17e8d33a4e4d",
   "metadata": {},
   "source": [
    "Creating the training and testing datasets and preprocessing the data"
   ]
  },
  {
   "cell_type": "code",
   "execution_count": 5,
   "id": "83bdd551-e8bc-4b00-b2e6-38a97dbf3f06",
   "metadata": {},
   "outputs": [],
   "source": [
    "train_size = int(len(data) * 0.9)\n",
    "train = data[[\"Close\"]].iloc[:train_size]\n",
    "test = data[[\"Close\"]].iloc[train_size:]"
   ]
  },
  {
   "cell_type": "code",
   "execution_count": 6,
   "id": "d6c0111c-1b76-454c-8204-228616fb9b4e",
   "metadata": {},
   "outputs": [
    {
     "data": {
      "text/plain": [
       "array([[0.00000000e+00],\n",
       "       [5.68314647e-05],\n",
       "       [5.17215381e-05],\n",
       "       ...,\n",
       "       [6.28646586e-01],\n",
       "       [6.30070577e-01],\n",
       "       [6.34216750e-01]])"
      ]
     },
     "execution_count": 6,
     "metadata": {},
     "output_type": "execute_result"
    }
   ],
   "source": [
    "scaler = MinMaxScaler()\n",
    "scaler.fit(data)\n",
    "scaled_train = scaler.transform(train)\n",
    "scaled_test = scaler.transform(test)\n",
    "scaled_train"
   ]
  },
  {
   "cell_type": "markdown",
   "id": "b5c43d42-f4e9-4ef1-9919-925041fefb83",
   "metadata": {},
   "source": [
    "The model is trained on a sequence of the first 59 days, which then is used to predict the price on the 60th day. The model is then trained on the next 59 days(2-60) and predicts the price on the 61st day. This process is repeated for all sequences in the datasets."
   ]
  },
  {
   "cell_type": "code",
   "execution_count": 7,
   "id": "a9bf74a8-69f2-4e4d-8e11-04fb6870cff8",
   "metadata": {},
   "outputs": [],
   "source": [
    "def create_sequences(data, sequence_length):\n",
    "    X, y = [], []\n",
    "    for i in range(len(data) - sequence_length):\n",
    "        X.append(data[i:(i + sequence_length)])\n",
    "        y.append(data[i + sequence_length])\n",
    "    return np.array(X), np.array(y)"
   ]
  },
  {
   "cell_type": "code",
   "execution_count": 8,
   "id": "82166141-bd15-43eb-bfb6-31e9e5d8c176",
   "metadata": {},
   "outputs": [],
   "source": [
    "sequence_length = 60\n",
    "X_train, y_train = create_sequences(scaled_train, sequence_length)\n",
    "X_test, y_test = create_sequences(scaled_test, sequence_length)\n",
    "\n",
    "batch_size = 32\n",
    "train_dataset = tf.data.Dataset.from_tensor_slices((X_train, y_train)).batch(batch_size)\n",
    "test_dataset = tf.data.Dataset.from_tensor_slices((X_test, y_test)).batch(batch_size)"
   ]
  },
  {
   "cell_type": "markdown",
   "id": "4e2b8395-4be9-421f-8cbd-9208f36b9e13",
   "metadata": {},
   "source": [
    "Creating and training the model"
   ]
  },
  {
   "cell_type": "code",
   "execution_count": 9,
   "id": "8f88bf0f-4f17-4581-865b-ebdacb705f16",
   "metadata": {
    "editable": true,
    "slideshow": {
     "slide_type": ""
    },
    "tags": []
   },
   "outputs": [],
   "source": [
    "def build_model(sequence_length, n_features=1):\n",
    "    model = Sequential([\n",
    "        Input(shape=(sequence_length, n_features)),\n",
    "        LSTM(300, activation='relu'),\n",
    "        Dense(1, activation=\"linear\")\n",
    "    ])\n",
    "    return model"
   ]
  },
  {
   "cell_type": "code",
   "execution_count": 10,
   "id": "6fb07a1c-4d47-400d-bf08-5af996f22b7b",
   "metadata": {},
   "outputs": [],
   "source": [
    "model = build_model(sequence_length)\n",
    "model.compile(optimizer='adam', loss='mse', metrics=['mae'])"
   ]
  },
  {
   "cell_type": "code",
   "execution_count": 11,
   "id": "34049996-9163-4dd6-8dc3-3c554741c263",
   "metadata": {},
   "outputs": [],
   "source": [
    "early_stopping = tf.keras.callbacks.EarlyStopping( # used to prevent overfitting\n",
    "    monitor='val_loss',\n",
    "    patience=10,\n",
    "    restore_best_weights=True\n",
    ")"
   ]
  },
  {
   "cell_type": "code",
   "execution_count": 12,
   "id": "99513386-8794-4ab2-8483-942139ec7547",
   "metadata": {},
   "outputs": [
    {
     "name": "stdout",
     "output_type": "stream",
     "text": [
      "Epoch 1/50\n",
      "\u001b[1m146/146\u001b[0m \u001b[32m━━━━━━━━━━━━━━━━━━━━\u001b[0m\u001b[37m\u001b[0m \u001b[1m7s\u001b[0m 41ms/step - loss: 1.0610e-04 - mae: 0.0063 - val_loss: 0.0049 - val_mae: 0.0553\n",
      "Epoch 2/50\n",
      "\u001b[1m146/146\u001b[0m \u001b[32m━━━━━━━━━━━━━━━━━━━━\u001b[0m\u001b[37m\u001b[0m \u001b[1m6s\u001b[0m 40ms/step - loss: 0.0103 - mae: 0.0550 - val_loss: 0.0212 - val_mae: 0.1362\n",
      "Epoch 3/50\n",
      "\u001b[1m146/146\u001b[0m \u001b[32m━━━━━━━━━━━━━━━━━━━━\u001b[0m\u001b[37m\u001b[0m \u001b[1m6s\u001b[0m 40ms/step - loss: 0.0087 - mae: 0.0585 - val_loss: 0.0015 - val_mae: 0.0327\n",
      "Epoch 4/50\n",
      "\u001b[1m146/146\u001b[0m \u001b[32m━━━━━━━━━━━━━━━━━━━━\u001b[0m\u001b[37m\u001b[0m \u001b[1m6s\u001b[0m 43ms/step - loss: 0.0052 - mae: 0.0448 - val_loss: 8.6936e-04 - val_mae: 0.0234\n",
      "Epoch 5/50\n",
      "\u001b[1m146/146\u001b[0m \u001b[32m━━━━━━━━━━━━━━━━━━━━\u001b[0m\u001b[37m\u001b[0m \u001b[1m6s\u001b[0m 40ms/step - loss: 0.0053 - mae: 0.0446 - val_loss: 5.6994e-04 - val_mae: 0.0191\n",
      "Epoch 6/50\n",
      "\u001b[1m146/146\u001b[0m \u001b[32m━━━━━━━━━━━━━━━━━━━━\u001b[0m\u001b[37m\u001b[0m \u001b[1m6s\u001b[0m 40ms/step - loss: 0.0039 - mae: 0.0398 - val_loss: 5.6257e-04 - val_mae: 0.0192\n",
      "Epoch 7/50\n",
      "\u001b[1m146/146\u001b[0m \u001b[32m━━━━━━━━━━━━━━━━━━━━\u001b[0m\u001b[37m\u001b[0m \u001b[1m6s\u001b[0m 42ms/step - loss: 0.0024 - mae: 0.0313 - val_loss: 4.4609e-04 - val_mae: 0.0165\n",
      "Epoch 8/50\n",
      "\u001b[1m146/146\u001b[0m \u001b[32m━━━━━━━━━━━━━━━━━━━━\u001b[0m\u001b[37m\u001b[0m \u001b[1m6s\u001b[0m 42ms/step - loss: 0.0016 - mae: 0.0281 - val_loss: 5.0696e-04 - val_mae: 0.0175\n",
      "Epoch 9/50\n",
      "\u001b[1m146/146\u001b[0m \u001b[32m━━━━━━━━━━━━━━━━━━━━\u001b[0m\u001b[37m\u001b[0m \u001b[1m11s\u001b[0m 73ms/step - loss: 0.0011 - mae: 0.0227 - val_loss: 0.0012 - val_mae: 0.0279\n",
      "Epoch 10/50\n",
      "\u001b[1m146/146\u001b[0m \u001b[32m━━━━━━━━━━━━━━━━━━━━\u001b[0m\u001b[37m\u001b[0m \u001b[1m8s\u001b[0m 53ms/step - loss: 2.2534e-04 - mae: 0.0117 - val_loss: 7.5217e-04 - val_mae: 0.0217\n",
      "Epoch 11/50\n",
      "\u001b[1m146/146\u001b[0m \u001b[32m━━━━━━━━━━━━━━━━━━━━\u001b[0m\u001b[37m\u001b[0m \u001b[1m7s\u001b[0m 47ms/step - loss: 3.0145e-04 - mae: 0.0130 - val_loss: 7.7165e-04 - val_mae: 0.0220\n",
      "Epoch 12/50\n",
      "\u001b[1m146/146\u001b[0m \u001b[32m━━━━━━━━━━━━━━━━━━━━\u001b[0m\u001b[37m\u001b[0m \u001b[1m11s\u001b[0m 75ms/step - loss: 1.7694e-04 - mae: 0.0103 - val_loss: 5.4239e-04 - val_mae: 0.0184\n",
      "Epoch 13/50\n",
      "\u001b[1m146/146\u001b[0m \u001b[32m━━━━━━━━━━━━━━━━━━━━\u001b[0m\u001b[37m\u001b[0m \u001b[1m7s\u001b[0m 49ms/step - loss: 2.2757e-04 - mae: 0.0116 - val_loss: 4.3453e-04 - val_mae: 0.0163\n",
      "Epoch 14/50\n",
      "\u001b[1m146/146\u001b[0m \u001b[32m━━━━━━━━━━━━━━━━━━━━\u001b[0m\u001b[37m\u001b[0m \u001b[1m7s\u001b[0m 45ms/step - loss: 2.0250e-04 - mae: 0.0107 - val_loss: 3.3393e-04 - val_mae: 0.0141\n",
      "Epoch 15/50\n",
      "\u001b[1m146/146\u001b[0m \u001b[32m━━━━━━━━━━━━━━━━━━━━\u001b[0m\u001b[37m\u001b[0m \u001b[1m6s\u001b[0m 40ms/step - loss: 1.5252e-04 - mae: 0.0091 - val_loss: 2.7018e-04 - val_mae: 0.0127\n",
      "Epoch 16/50\n",
      "\u001b[1m146/146\u001b[0m \u001b[32m━━━━━━━━━━━━━━━━━━━━\u001b[0m\u001b[37m\u001b[0m \u001b[1m6s\u001b[0m 40ms/step - loss: 1.2106e-04 - mae: 0.0081 - val_loss: 2.4106e-04 - val_mae: 0.0120\n",
      "Epoch 17/50\n",
      "\u001b[1m146/146\u001b[0m \u001b[32m━━━━━━━━━━━━━━━━━━━━\u001b[0m\u001b[37m\u001b[0m \u001b[1m6s\u001b[0m 39ms/step - loss: 1.1542e-04 - mae: 0.0077 - val_loss: 2.3469e-04 - val_mae: 0.0119\n",
      "Epoch 18/50\n",
      "\u001b[1m146/146\u001b[0m \u001b[32m━━━━━━━━━━━━━━━━━━━━\u001b[0m\u001b[37m\u001b[0m \u001b[1m6s\u001b[0m 39ms/step - loss: 8.9712e-05 - mae: 0.0068 - val_loss: 2.3268e-04 - val_mae: 0.0118\n",
      "Epoch 19/50\n",
      "\u001b[1m146/146\u001b[0m \u001b[32m━━━━━━━━━━━━━━━━━━━━\u001b[0m\u001b[37m\u001b[0m \u001b[1m6s\u001b[0m 40ms/step - loss: 6.8665e-05 - mae: 0.0062 - val_loss: 2.3509e-04 - val_mae: 0.0119\n",
      "Epoch 20/50\n",
      "\u001b[1m146/146\u001b[0m \u001b[32m━━━━━━━━━━━━━━━━━━━━\u001b[0m\u001b[37m\u001b[0m \u001b[1m11s\u001b[0m 76ms/step - loss: 5.1374e-05 - mae: 0.0055 - val_loss: 2.4548e-04 - val_mae: 0.0121\n",
      "Epoch 21/50\n",
      "\u001b[1m146/146\u001b[0m \u001b[32m━━━━━━━━━━━━━━━━━━━━\u001b[0m\u001b[37m\u001b[0m \u001b[1m7s\u001b[0m 50ms/step - loss: 4.3101e-05 - mae: 0.0051 - val_loss: 2.5093e-04 - val_mae: 0.0122\n",
      "Epoch 22/50\n",
      "\u001b[1m146/146\u001b[0m \u001b[32m━━━━━━━━━━━━━━━━━━━━\u001b[0m\u001b[37m\u001b[0m \u001b[1m7s\u001b[0m 46ms/step - loss: 3.5457e-05 - mae: 0.0047 - val_loss: 2.4954e-04 - val_mae: 0.0121\n",
      "Epoch 23/50\n",
      "\u001b[1m146/146\u001b[0m \u001b[32m━━━━━━━━━━━━━━━━━━━━\u001b[0m\u001b[37m\u001b[0m \u001b[1m6s\u001b[0m 41ms/step - loss: 3.0597e-05 - mae: 0.0043 - val_loss: 2.3399e-04 - val_mae: 0.0118\n",
      "Epoch 24/50\n",
      "\u001b[1m146/146\u001b[0m \u001b[32m━━━━━━━━━━━━━━━━━━━━\u001b[0m\u001b[37m\u001b[0m \u001b[1m11s\u001b[0m 77ms/step - loss: 1.6877e-05 - mae: 0.0031 - val_loss: 2.3037e-04 - val_mae: 0.0117\n",
      "Epoch 25/50\n",
      "\u001b[1m146/146\u001b[0m \u001b[32m━━━━━━━━━━━━━━━━━━━━\u001b[0m\u001b[37m\u001b[0m \u001b[1m7s\u001b[0m 50ms/step - loss: 1.4113e-05 - mae: 0.0028 - val_loss: 2.2044e-04 - val_mae: 0.0114\n",
      "Epoch 26/50\n",
      "\u001b[1m146/146\u001b[0m \u001b[32m━━━━━━━━━━━━━━━━━━━━\u001b[0m\u001b[37m\u001b[0m \u001b[1m7s\u001b[0m 46ms/step - loss: 1.0991e-05 - mae: 0.0023 - val_loss: 2.2167e-04 - val_mae: 0.0114\n",
      "Epoch 27/50\n",
      "\u001b[1m146/146\u001b[0m \u001b[32m━━━━━━━━━━━━━━━━━━━━\u001b[0m\u001b[37m\u001b[0m \u001b[1m6s\u001b[0m 40ms/step - loss: 1.1712e-05 - mae: 0.0024 - val_loss: 2.2533e-04 - val_mae: 0.0115\n",
      "Epoch 28/50\n",
      "\u001b[1m146/146\u001b[0m \u001b[32m━━━━━━━━━━━━━━━━━━━━\u001b[0m\u001b[37m\u001b[0m \u001b[1m6s\u001b[0m 40ms/step - loss: 1.2565e-05 - mae: 0.0025 - val_loss: 2.1896e-04 - val_mae: 0.0113\n",
      "Epoch 29/50\n",
      "\u001b[1m146/146\u001b[0m \u001b[32m━━━━━━━━━━━━━━━━━━━━\u001b[0m\u001b[37m\u001b[0m \u001b[1m6s\u001b[0m 40ms/step - loss: 8.4412e-06 - mae: 0.0019 - val_loss: 2.1666e-04 - val_mae: 0.0113\n",
      "Epoch 30/50\n",
      "\u001b[1m146/146\u001b[0m \u001b[32m━━━━━━━━━━━━━━━━━━━━\u001b[0m\u001b[37m\u001b[0m \u001b[1m6s\u001b[0m 39ms/step - loss: 7.8573e-06 - mae: 0.0018 - val_loss: 2.1026e-04 - val_mae: 0.0111\n",
      "Epoch 31/50\n",
      "\u001b[1m146/146\u001b[0m \u001b[32m━━━━━━━━━━━━━━━━━━━━\u001b[0m\u001b[37m\u001b[0m \u001b[1m6s\u001b[0m 41ms/step - loss: 6.4053e-06 - mae: 0.0015 - val_loss: 2.0430e-04 - val_mae: 0.0109\n",
      "Epoch 32/50\n",
      "\u001b[1m146/146\u001b[0m \u001b[32m━━━━━━━━━━━━━━━━━━━━\u001b[0m\u001b[37m\u001b[0m \u001b[1m6s\u001b[0m 40ms/step - loss: 6.0433e-06 - mae: 0.0014 - val_loss: 2.0266e-04 - val_mae: 0.0109\n",
      "Epoch 33/50\n",
      "\u001b[1m146/146\u001b[0m \u001b[32m━━━━━━━━━━━━━━━━━━━━\u001b[0m\u001b[37m\u001b[0m \u001b[1m6s\u001b[0m 39ms/step - loss: 5.7502e-06 - mae: 0.0013 - val_loss: 2.0123e-04 - val_mae: 0.0109\n",
      "Epoch 34/50\n",
      "\u001b[1m146/146\u001b[0m \u001b[32m━━━━━━━━━━━━━━━━━━━━\u001b[0m\u001b[37m\u001b[0m \u001b[1m6s\u001b[0m 39ms/step - loss: 5.5577e-06 - mae: 0.0012 - val_loss: 1.9879e-04 - val_mae: 0.0108\n",
      "Epoch 35/50\n",
      "\u001b[1m146/146\u001b[0m \u001b[32m━━━━━━━━━━━━━━━━━━━━\u001b[0m\u001b[37m\u001b[0m \u001b[1m6s\u001b[0m 40ms/step - loss: 5.4864e-06 - mae: 0.0011 - val_loss: 1.9490e-04 - val_mae: 0.0107\n",
      "Epoch 36/50\n",
      "\u001b[1m146/146\u001b[0m \u001b[32m━━━━━━━━━━━━━━━━━━━━\u001b[0m\u001b[37m\u001b[0m \u001b[1m6s\u001b[0m 40ms/step - loss: 5.4917e-06 - mae: 0.0011 - val_loss: 1.9122e-04 - val_mae: 0.0106\n",
      "Epoch 37/50\n",
      "\u001b[1m146/146\u001b[0m \u001b[32m━━━━━━━━━━━━━━━━━━━━\u001b[0m\u001b[37m\u001b[0m \u001b[1m6s\u001b[0m 40ms/step - loss: 5.4230e-06 - mae: 0.0011 - val_loss: 1.9096e-04 - val_mae: 0.0106\n",
      "Epoch 38/50\n",
      "\u001b[1m146/146\u001b[0m \u001b[32m━━━━━━━━━━━━━━━━━━━━\u001b[0m\u001b[37m\u001b[0m \u001b[1m6s\u001b[0m 40ms/step - loss: 5.6895e-06 - mae: 0.0011 - val_loss: 1.8933e-04 - val_mae: 0.0106\n",
      "Epoch 39/50\n",
      "\u001b[1m146/146\u001b[0m \u001b[32m━━━━━━━━━━━━━━━━━━━━\u001b[0m\u001b[37m\u001b[0m \u001b[1m6s\u001b[0m 40ms/step - loss: 5.2458e-06 - mae: 0.0010 - val_loss: 1.9409e-04 - val_mae: 0.0107\n",
      "Epoch 40/50\n",
      "\u001b[1m146/146\u001b[0m \u001b[32m━━━━━━━━━━━━━━━━━━━━\u001b[0m\u001b[37m\u001b[0m \u001b[1m6s\u001b[0m 40ms/step - loss: 7.2859e-06 - mae: 0.0014 - val_loss: 1.8814e-04 - val_mae: 0.0105\n",
      "Epoch 41/50\n",
      "\u001b[1m146/146\u001b[0m \u001b[32m━━━━━━━━━━━━━━━━━━━━\u001b[0m\u001b[37m\u001b[0m \u001b[1m11s\u001b[0m 75ms/step - loss: 6.3782e-06 - mae: 0.0012 - val_loss: 1.8165e-04 - val_mae: 0.0103\n",
      "Epoch 42/50\n",
      "\u001b[1m146/146\u001b[0m \u001b[32m━━━━━━━━━━━━━━━━━━━━\u001b[0m\u001b[37m\u001b[0m \u001b[1m8s\u001b[0m 54ms/step - loss: 7.1469e-06 - mae: 0.0018 - val_loss: 1.7790e-04 - val_mae: 0.0102\n",
      "Epoch 43/50\n",
      "\u001b[1m146/146\u001b[0m \u001b[32m━━━━━━━━━━━━━━━━━━━━\u001b[0m\u001b[37m\u001b[0m \u001b[1m7s\u001b[0m 48ms/step - loss: 8.6234e-06 - mae: 0.0021 - val_loss: 1.8173e-04 - val_mae: 0.0103\n",
      "Epoch 44/50\n",
      "\u001b[1m146/146\u001b[0m \u001b[32m━━━━━━━━━━━━━━━━━━━━\u001b[0m\u001b[37m\u001b[0m \u001b[1m6s\u001b[0m 40ms/step - loss: 6.8423e-06 - mae: 0.0017 - val_loss: 1.7873e-04 - val_mae: 0.0103\n",
      "Epoch 45/50\n",
      "\u001b[1m146/146\u001b[0m \u001b[32m━━━━━━━━━━━━━━━━━━━━\u001b[0m\u001b[37m\u001b[0m \u001b[1m6s\u001b[0m 40ms/step - loss: 5.5265e-06 - mae: 0.0012 - val_loss: 1.7069e-04 - val_mae: 0.0100\n",
      "Epoch 46/50\n",
      "\u001b[1m146/146\u001b[0m \u001b[32m━━━━━━━━━━━━━━━━━━━━\u001b[0m\u001b[37m\u001b[0m \u001b[1m6s\u001b[0m 43ms/step - loss: 6.7480e-06 - mae: 0.0015 - val_loss: 1.6528e-04 - val_mae: 0.0098\n",
      "Epoch 47/50\n",
      "\u001b[1m146/146\u001b[0m \u001b[32m━━━━━━━━━━━━━━━━━━━━\u001b[0m\u001b[37m\u001b[0m \u001b[1m6s\u001b[0m 42ms/step - loss: 5.4337e-06 - mae: 0.0012 - val_loss: 1.6506e-04 - val_mae: 0.0098\n",
      "Epoch 48/50\n",
      "\u001b[1m146/146\u001b[0m \u001b[32m━━━━━━━━━━━━━━━━━━━━\u001b[0m\u001b[37m\u001b[0m \u001b[1m6s\u001b[0m 42ms/step - loss: 4.9724e-06 - mae: 0.0012 - val_loss: 1.6613e-04 - val_mae: 0.0098\n",
      "Epoch 49/50\n",
      "\u001b[1m146/146\u001b[0m \u001b[32m━━━━━━━━━━━━━━━━━━━━\u001b[0m\u001b[37m\u001b[0m \u001b[1m6s\u001b[0m 41ms/step - loss: 5.9769e-06 - mae: 0.0016 - val_loss: 1.6446e-04 - val_mae: 0.0098\n",
      "Epoch 50/50\n",
      "\u001b[1m146/146\u001b[0m \u001b[32m━━━━━━━━━━━━━━━━━━━━\u001b[0m\u001b[37m\u001b[0m \u001b[1m6s\u001b[0m 42ms/step - loss: 5.3704e-06 - mae: 0.0013 - val_loss: 1.6254e-04 - val_mae: 0.0097\n"
     ]
    },
    {
     "data": {
      "text/plain": [
       "<keras.src.callbacks.history.History at 0x2801efdc110>"
      ]
     },
     "execution_count": 12,
     "metadata": {},
     "output_type": "execute_result"
    }
   ],
   "source": [
    "model.fit(\n",
    "    train_dataset,\n",
    "    epochs=50,\n",
    "    validation_data=test_dataset,\n",
    "    callbacks=[early_stopping]\n",
    ")"
   ]
  },
  {
   "cell_type": "markdown",
   "id": "ff6a81b0-6bbb-4f4b-84df-88a6b51659d7",
   "metadata": {},
   "source": [
    "Using the model to predict the prices in the testing dataset and then displaying the relevant results and statistics"
   ]
  },
  {
   "cell_type": "code",
   "execution_count": 13,
   "id": "66c93d97-762e-491d-86b0-c5b0b818c4d1",
   "metadata": {},
   "outputs": [],
   "source": [
    "def get_predictions():\n",
    "    scaled_predictions = model.predict(X_test)\n",
    "    predictions = scaler.inverse_transform(scaled_predictions)\n",
    "    unscaled_y_test = scaler.inverse_transform(y_test)\n",
    "    return predictions, unscaled_y_test"
   ]
  },
  {
   "cell_type": "code",
   "execution_count": 14,
   "id": "8ee9c5a7-06a4-4947-8d95-7510c678d136",
   "metadata": {},
   "outputs": [
    {
     "name": "stdout",
     "output_type": "stream",
     "text": [
      "\u001b[1m15/15\u001b[0m \u001b[32m━━━━━━━━━━━━━━━━━━━━\u001b[0m\u001b[37m\u001b[0m \u001b[1m0s\u001b[0m 22ms/step\n"
     ]
    }
   ],
   "source": [
    "predictions, unscaled_y_test = get_predictions()"
   ]
  },
  {
   "cell_type": "code",
   "execution_count": 15,
   "id": "8de9d8b0-6e25-4db5-94a0-494bb2cbdc78",
   "metadata": {
    "editable": true,
    "slideshow": {
     "slide_type": ""
    },
    "tags": []
   },
   "outputs": [
    {
     "data": {
      "text/html": [
       "<div>\n",
       "<style scoped>\n",
       "    .dataframe tbody tr th:only-of-type {\n",
       "        vertical-align: middle;\n",
       "    }\n",
       "\n",
       "    .dataframe tbody tr th {\n",
       "        vertical-align: top;\n",
       "    }\n",
       "\n",
       "    .dataframe thead th {\n",
       "        text-align: right;\n",
       "    }\n",
       "</style>\n",
       "<table border=\"1\" class=\"dataframe\">\n",
       "  <thead>\n",
       "    <tr style=\"text-align: right;\">\n",
       "      <th></th>\n",
       "      <th>Actual</th>\n",
       "      <th>Predicted</th>\n",
       "    </tr>\n",
       "    <tr>\n",
       "      <th>Date</th>\n",
       "      <th></th>\n",
       "      <th></th>\n",
       "    </tr>\n",
       "  </thead>\n",
       "  <tbody>\n",
       "    <tr>\n",
       "      <th>2022-12-22 00:00:00-05:00</th>\n",
       "      <td>130.997925</td>\n",
       "      <td>133.340408</td>\n",
       "    </tr>\n",
       "    <tr>\n",
       "      <th>2022-12-23 00:00:00-05:00</th>\n",
       "      <td>130.631363</td>\n",
       "      <td>133.030212</td>\n",
       "    </tr>\n",
       "    <tr>\n",
       "      <th>2022-12-27 00:00:00-05:00</th>\n",
       "      <td>128.818405</td>\n",
       "      <td>132.305023</td>\n",
       "    </tr>\n",
       "    <tr>\n",
       "      <th>2022-12-28 00:00:00-05:00</th>\n",
       "      <td>124.865585</td>\n",
       "      <td>130.875839</td>\n",
       "    </tr>\n",
       "    <tr>\n",
       "      <th>2022-12-29 00:00:00-05:00</th>\n",
       "      <td>128.402344</td>\n",
       "      <td>127.969063</td>\n",
       "    </tr>\n",
       "    <tr>\n",
       "      <th>...</th>\n",
       "      <td>...</td>\n",
       "      <td>...</td>\n",
       "    </tr>\n",
       "    <tr>\n",
       "      <th>2024-10-23 00:00:00-04:00</th>\n",
       "      <td>230.759995</td>\n",
       "      <td>234.962723</td>\n",
       "    </tr>\n",
       "    <tr>\n",
       "      <th>2024-10-24 00:00:00-04:00</th>\n",
       "      <td>230.570007</td>\n",
       "      <td>231.341385</td>\n",
       "    </tr>\n",
       "    <tr>\n",
       "      <th>2024-10-25 00:00:00-04:00</th>\n",
       "      <td>231.410004</td>\n",
       "      <td>228.364685</td>\n",
       "    </tr>\n",
       "    <tr>\n",
       "      <th>2024-10-28 00:00:00-04:00</th>\n",
       "      <td>233.399994</td>\n",
       "      <td>228.129379</td>\n",
       "    </tr>\n",
       "    <tr>\n",
       "      <th>2024-10-29 00:00:00-04:00</th>\n",
       "      <td>233.669998</td>\n",
       "      <td>230.135773</td>\n",
       "    </tr>\n",
       "  </tbody>\n",
       "</table>\n",
       "<p>465 rows × 2 columns</p>\n",
       "</div>"
      ],
      "text/plain": [
       "                               Actual   Predicted\n",
       "Date                                             \n",
       "2022-12-22 00:00:00-05:00  130.997925  133.340408\n",
       "2022-12-23 00:00:00-05:00  130.631363  133.030212\n",
       "2022-12-27 00:00:00-05:00  128.818405  132.305023\n",
       "2022-12-28 00:00:00-05:00  124.865585  130.875839\n",
       "2022-12-29 00:00:00-05:00  128.402344  127.969063\n",
       "...                               ...         ...\n",
       "2024-10-23 00:00:00-04:00  230.759995  234.962723\n",
       "2024-10-24 00:00:00-04:00  230.570007  231.341385\n",
       "2024-10-25 00:00:00-04:00  231.410004  228.364685\n",
       "2024-10-28 00:00:00-04:00  233.399994  228.129379\n",
       "2024-10-29 00:00:00-04:00  233.669998  230.135773\n",
       "\n",
       "[465 rows x 2 columns]"
      ]
     },
     "execution_count": 15,
     "metadata": {},
     "output_type": "execute_result"
    }
   ],
   "source": [
    "results = pd.DataFrame(unscaled_y_test, index=data.index[train_size+sequence_length:])\n",
    "results = results.rename(columns={0: 'Actual'})\n",
    "results['Predicted'] = predictions\n",
    "results"
   ]
  },
  {
   "cell_type": "code",
   "execution_count": 16,
   "id": "f98bcd08-bbde-48f1-bca9-654765e584c9",
   "metadata": {},
   "outputs": [
    {
     "data": {
      "image/png": "[encoded data removed]",
      "text/plain": [
       "<Figure size 640x480 with 1 Axes>"
      ]
     },
     "metadata": {},
     "output_type": "display_data"
    }
   ],
   "source": [
    "plt.plot(results['Actual'], label='Actual')\n",
    "plt.plot(results['Predicted'], label='Predicted')\n",
    "plt.gca().xaxis.set_major_formatter(mdates.DateFormatter('%b %Y'))\n",
    "plt.xticks(rotation=45)\n",
    "plt.title('Stock Price Predictions vs. Actual')\n",
    "plt.legend()\n",
    "plt.show()"
   ]
  },
  {
   "cell_type": "code",
   "execution_count": 17,
   "id": "7dcebda4-b512-462c-b964-122c34697ce0",
   "metadata": {
    "editable": true,
    "slideshow": {
     "slide_type": ""
    },
    "tags": []
   },
   "outputs": [
    {
     "data": {
      "text/plain": [
       "3.0107899619933898"
      ]
     },
     "execution_count": 17,
     "metadata": {},
     "output_type": "execute_result"
    }
   ],
   "source": [
    "rmse = sqrt(mean_squared_error(results['Actual'], results['Predicted']))\n",
    "rmse"
   ]
  },
  {
   "cell_type": "code",
   "execution_count": 18,
   "id": "e0f2c2d1-1398-4c59-96d8-7249fb5c8f4a",
   "metadata": {},
   "outputs": [
    {
     "data": {
      "text/plain": [
       "2.3005263625934558"
      ]
     },
     "execution_count": 18,
     "metadata": {},
     "output_type": "execute_result"
    }
   ],
   "source": [
    "mae = mean_absolute_error(results['Actual'], results['Predicted'])\n",
    "mae"
   ]
  }
 ],
 "metadata": {
  "kernelspec": {
   "display_name": "Python 3 (ipykernel)",
   "language": "python",
   "name": "python3"
  },
  "language_info": {
   "codemirror_mode": {
    "name": "ipython",
    "version": 3
   },
   "file_extension": ".py",
   "mimetype": "text/x-python",
   "name": "python",
   "nbconvert_exporter": "python",
   "pygments_lexer": "ipython3",
   "version": "3.12.4"
  }
 },
 "nbformat": 4,
 "nbformat_minor": 5
}
